{
  "nbformat": 4,
  "nbformat_minor": 0,
  "metadata": {
    "colab": {
      "name": "Problem2.ipynb",
      "provenance": [],
      "collapsed_sections": []
    },
    "kernelspec": {
      "name": "python3810jvsc74a57bd067fa2ffa439bd4fea0bff4ad202ee9043220bc166eed9c9cb0afb3e272cea7cb",
      "display_name": "Python 3.8.10 64-bit ('.venv': venv)"
    },
    "language_info": {
      "name": "python",
      "version": "3.8.10"
    },
    "metadata": {
      "interpreter": {
        "hash": "a521ea166c522efd727cf1be1d8ee30880aa7d991c97036f1a0fca5594a114b9"
      }
    }
  },
  "cells": [
    {
      "cell_type": "markdown",
      "metadata": {
        "id": "8EhSG3Zj7zqA"
      },
      "source": [
        "3) The original model size is 10.7MB and the compressed model is 8.5MB. **It is 2MB smaller.**"
      ]
    },
    {
      "cell_type": "code",
      "metadata": {
        "id": "ujYsE_FkX0Xb"
      },
      "source": [
        "import numpy as np\n",
        "import tensorflow as tf\n",
        "import os\n",
        "import time\n",
        "import PIL.Image as Image\n"
      ],
      "execution_count": 1,
      "outputs": []
    },
    {
      "cell_type": "code",
      "metadata": {
        "id": "Pkz21xyKEXbs"
      },
      "source": [
        "path_to_model_folder = \"saved_models/\"\n",
        "dataset_test = \"dataset/Test\""
      ],
      "execution_count": 2,
      "outputs": []
    },
    {
      "cell_type": "code",
      "metadata": {
        "id": "C2eQrCBDYBT-"
      },
      "source": [
        "# Convert the model (let's use the saved model from the previous exercise)\n",
        "converter = tf.lite.TFLiteConverter.from_saved_model(path_to_model_folder + \"model_1\") # path to the SavedModel directory\n",
        "tflite_model = converter.convert()\n",
        "\n",
        "\n",
        "# Save the model\n",
        "with open(path_to_model_folder + \"model_1.tflite\", 'wb') as f:\n",
        "  f.write(tflite_model)"
      ],
      "execution_count": 3,
      "outputs": []
    },
    {
      "cell_type": "code",
      "execution_count": 4,
      "metadata": {},
      "outputs": [],
      "source": [
        "IMAGE_SHAPE = (224, 224)\n",
        "\n",
        "def load_dataset():\n",
        "    X_test = []\n",
        "    y_test = []\n",
        "\n",
        "    for classes in os.listdir(dataset_test):\n",
        "        classes_path = os.path.join(dataset_test, classes)\n",
        "        for image_name in os.listdir(classes_path):\n",
        "            img = Image.open(os.path.join(classes_path, image_name)).resize(IMAGE_SHAPE)\n",
        "            X_test.append(np.array(img, dtype=np.float32)/255.0)\n",
        "            y_test.append(int(classes))\n",
        "    return X_test, y_test"
      ]
    },
    {
      "cell_type": "code",
      "metadata": {
        "id": "2bTmVaZ7k8r3"
      },
      "source": [
        "interpreter = tf.lite.Interpreter(model_content=tflite_model)\n",
        "interpreter.allocate_tensors()\n",
        "\n",
        "input_details = interpreter.get_input_details()\n",
        "output_details = interpreter.get_output_details()\n",
        "\n",
        "input_shape = input_details[0]['shape']\n",
        "\n",
        "X_test, y_test = load_dataset()"
      ],
      "execution_count": 5,
      "outputs": []
    },
    {
      "cell_type": "code",
      "metadata": {
        "colab": {
          "base_uri": "https://localhost:8080/"
        },
        "id": "2RGF93Jv5lcH",
        "outputId": "73ef5af7-7705-424f-9bc1-664e089c537f"
      },
      "source": [
        "predicted_result = []\n",
        "classifing_speed = []\n",
        "\n",
        "for i in range(len(X_test)):\n",
        "    start_time = time.time()\n",
        "    interpreter.set_tensor(input_details[0]['index'], np.array(X_test[i][np.newaxis, ...]))\n",
        "    interpreter.invoke()\n",
        "    output_data = interpreter.get_tensor(output_details[0]['index'])\n",
        "    classifing_speed.append(time.time() - start_time)\n",
        "    predicted_result.append(np.argmax(output_data[0], axis = -1))"
      ],
      "execution_count": 6,
      "outputs": []
    },
    {
      "cell_type": "code",
      "execution_count": 7,
      "metadata": {},
      "outputs": [
        {
          "output_type": "stream",
          "name": "stdout",
          "text": [
            "Average time to classify an image is:  0.03054928450748838\n"
          ]
        }
      ],
      "source": [
        "average_time_per_image = sum(classifing_speed) / len(predicted_result)\n",
        "print(\"Average time to classify an image is: \", average_time_per_image)"
      ]
    },
    {
      "cell_type": "code",
      "execution_count": 8,
      "metadata": {},
      "outputs": [
        {
          "output_type": "stream",
          "name": "stdout",
          "text": [
            "Accuracy of TFlite model is:  0.6275862068965518\n"
          ]
        }
      ],
      "source": [
        "accuracy = 0.0\n",
        "\n",
        "for i in range(len(predicted_result)):\n",
        "    if (predicted_result[i] == y_test[i]):\n",
        "        accuracy += 1\n",
        "\n",
        "accuracy = accuracy / len(predicted_result)\n",
        "print(\"Accuracy of TFlite model is: \", accuracy)"
      ]
    }
  ]
}